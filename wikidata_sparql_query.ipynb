{
 "cells": [
  {
   "cell_type": "code",
   "execution_count": 9,
   "id": "8cc1902f-737a-4259-9999-c70496d5222a",
   "metadata": {},
   "outputs": [],
   "source": [
    "from SPARQLWrapper import SPARQLWrapper, JSON\n",
    "import pandas as pd\n",
    "import sys"
   ]
  },
  {
   "cell_type": "code",
   "execution_count": 12,
   "id": "6c929614-7804-491b-9ca2-d34d5355aca2",
   "metadata": {},
   "outputs": [],
   "source": [
    "def query_wikidata(term):\n",
    "    endpoint_url = \"https://query.wikidata.org/sparql\"\n",
    "    sparql = SPARQLWrapper(\"https://query.wikidata.org/sparql\")\n",
    "    query = \"\"\"\n",
    "      SELECT distinct ?item ?itemLabel ?itemDescription WHERE{  \n",
    "      ?item ?label \"%s\"@pl.  \n",
    "      ?article schema:about ?item .\n",
    "      ?article schema:inLanguage \"pl\" .\n",
    "      ?article schema:isPartOf <https://pl.wikipedia.org/>.\t\n",
    "      SERVICE wikibase:label { bd:serviceParam wikibase:language \"pl\". }    \n",
    "    }\n",
    "    \"\"\" % (term)\n",
    "    \n",
    "    user_agent = \"WDQS-example Python/%s.%s\" % (sys.version_info[0], sys.version_info[1])\n",
    "    # TODO adjust user agent; see https://w.wiki/CX6\n",
    "    sparql = SPARQLWrapper(endpoint_url, agent=user_agent)\n",
    "    sparql.setQuery(query)\n",
    "    sparql.setReturnFormat(JSON)\n",
    "    return sparql.query().convert()\n"
   ]
  },
  {
   "cell_type": "code",
   "execution_count": 13,
   "id": "c73d1491-435c-4a5e-969d-cd7028e8a5b5",
   "metadata": {},
   "outputs": [],
   "source": [
    "test = query_wikidata(\"Rotunda\")"
   ]
  },
  {
   "cell_type": "code",
   "execution_count": 25,
   "id": "5b0189b0-cb53-41a8-ba0d-ed18b60459ee",
   "metadata": {},
   "outputs": [
    {
     "data": {
      "text/plain": [
       "[{'item': {'type': 'uri', 'value': 'http://www.wikidata.org/entity/Q623525'},\n",
       "  'label_en': {'xml:lang': 'en', 'type': 'literal', 'value': 'rotunda'},\n",
       "  'label_fr': {'xml:lang': 'fr', 'type': 'literal', 'value': 'rotonde'},\n",
       "  'label_ger': {'xml:lang': 'de', 'type': 'literal', 'value': 'Rotunde'},\n",
       "  'label_ukr': {'xml:lang': 'uk', 'type': 'literal', 'value': 'ротонда'},\n",
       "  'lcsh': {'type': 'literal', 'value': 'sh85115523'},\n",
       "  'itemLabel': {'xml:lang': 'pl', 'type': 'literal', 'value': 'Rotunda'}},\n",
       " {'item': {'type': 'uri', 'value': 'http://www.wikidata.org/entity/Q21447213'},\n",
       "  'label_en': {'xml:lang': 'en', 'type': 'literal', 'value': 'Rotunda'},\n",
       "  'label_fr': {'xml:lang': 'fr', 'type': 'literal', 'value': 'Rotunda'},\n",
       "  'label_ger': {'xml:lang': 'de', 'type': 'literal', 'value': 'Rotunda'},\n",
       "  'label_ukr': {'xml:lang': 'uk', 'type': 'literal', 'value': 'Rotunda'},\n",
       "  'itemLabel': {'xml:lang': 'pl', 'type': 'literal', 'value': 'Rotunda'}},\n",
       " {'item': {'type': 'uri', 'value': 'http://www.wikidata.org/entity/Q2169114'},\n",
       "  'label_en': {'xml:lang': 'en', 'type': 'literal', 'value': 'Rotunda'},\n",
       "  'label_fr': {'xml:lang': 'fr', 'type': 'literal', 'value': 'Rotunda'},\n",
       "  'label_ger': {'xml:lang': 'de', 'type': 'literal', 'value': 'Rotunda'},\n",
       "  'label_ukr': {'xml:lang': 'uk', 'type': 'literal', 'value': 'Ротунда'},\n",
       "  'itemLabel': {'xml:lang': 'pl', 'type': 'literal', 'value': 'Rotunda'},\n",
       "  'itemDescription': {'xml:lang': 'pl',\n",
       "   'type': 'literal',\n",
       "   'value': 'strona ujednoznaczniająca w projekcie Wikimedia'}}]"
      ]
     },
     "execution_count": 25,
     "metadata": {},
     "output_type": "execute_result"
    }
   ],
   "source": [
    "test"
   ]
  },
  {
   "cell_type": "code",
   "execution_count": 40,
   "id": "0fab7f44-94a7-41ec-a4cc-2e380c28a81b",
   "metadata": {},
   "outputs": [
    {
     "data": {
      "text/plain": [
       "{'barok': {'labels': {'pl': 'barok',\n",
       "   'en': 'barok',\n",
       "   'fr': 'baroque',\n",
       "   'de': 'barok',\n",
       "   'uk': 'barok'}},\n",
       " 'ids': {'LCSH': 'id',\n",
       "  'EUROVOC': 'id',\n",
       "  'YSO': 'id',\n",
       "  'UNESCO': 'id',\n",
       "  'openalex': 'id'}}"
      ]
     },
     "execution_count": 40,
     "metadata": {},
     "output_type": "execute_result"
    }
   ],
   "source": [
    "#WIKIDATA_DATA_MODEL\n",
    "\n",
    "\n",
    "{\"barok\":\n",
    " {\"labels\":\n",
    "  {\"pl\" : \"barok\",\n",
    "   \"en\" : \"barok\",\n",
    "   \"fr\" : \"baroque\",\n",
    "   \"de\" : \"barok\",\n",
    "   \"uk\" : \"barok\"}\n",
    "  },\n",
    " \"ids\" : \n",
    "    {\"LCSH\": \"id\",\n",
    "    \"EUROVOC\": \"id\",\n",
    "    \"YSO\": \"id\",\n",
    "    \"UNESCO\": \"id\",\n",
    "    \"openalex\" : \"id\"\n",
    " }\n",
    "}\n",
    "\n",
    "\n",
    "  \n",
    " "
   ]
  }
 ],
 "metadata": {
  "kernelspec": {
   "display_name": "Python 3 (ipykernel)",
   "language": "python",
   "name": "python3"
  },
  "language_info": {
   "codemirror_mode": {
    "name": "ipython",
    "version": 3
   },
   "file_extension": ".py",
   "mimetype": "text/x-python",
   "name": "python",
   "nbconvert_exporter": "python",
   "pygments_lexer": "ipython3",
   "version": "3.9.7"
  }
 },
 "nbformat": 4,
 "nbformat_minor": 5
}
