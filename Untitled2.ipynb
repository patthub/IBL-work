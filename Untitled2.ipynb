{
 "cells": [
  {
   "cell_type": "code",
   "execution_count": null,
   "id": "32acf7b9-aa82-45d8-a0cf-37c89c0c96b5",
   "metadata": {},
   "outputs": [],
   "source": []
  },
  {
   "cell_type": "code",
   "execution_count": 1,
   "id": "aa9dcb2d-a2e9-4690-9acc-561febbf78b2",
   "metadata": {},
   "outputs": [],
   "source": [
    "import pandas as pd #for handling csv and csv contents\n",
    "from rdflib import Graph, Literal, RDF, URIRef, Namespace #basic RDF handling\n",
    "from rdflib.namespace import FOAF , XSD #most common namespaces\n",
    "import urllib.parse #for parsing strings to URI's\n"
   ]
  },
  {
   "cell_type": "code",
   "execution_count": 2,
   "id": "3268f769-c1c5-49e7-86bc-8f2e9cdd935e",
   "metadata": {},
   "outputs": [],
   "source": [
    "url='https://raw.githubusercontent.com/KRontheWeb/csv2rdf-tutorial/master/example.csv'\n",
    "df=pd.read_csv(url,sep=\";\",quotechar='\"')"
   ]
  },
  {
   "cell_type": "code",
   "execution_count": 3,
   "id": "f6f6c790-baf4-4f06-8313-f328c2df9545",
   "metadata": {},
   "outputs": [
    {
     "data": {
      "text/html": [
       "<div>\n",
       "<style scoped>\n",
       "    .dataframe tbody tr th:only-of-type {\n",
       "        vertical-align: middle;\n",
       "    }\n",
       "\n",
       "    .dataframe tbody tr th {\n",
       "        vertical-align: top;\n",
       "    }\n",
       "\n",
       "    .dataframe thead th {\n",
       "        text-align: right;\n",
       "    }\n",
       "</style>\n",
       "<table border=\"1\" class=\"dataframe\">\n",
       "  <thead>\n",
       "    <tr style=\"text-align: right;\">\n",
       "      <th></th>\n",
       "      <th>Name</th>\n",
       "      <th>Address</th>\n",
       "      <th>Place</th>\n",
       "      <th>Country</th>\n",
       "      <th>Age</th>\n",
       "      <th>Hobby</th>\n",
       "      <th>Favourite Colour</th>\n",
       "    </tr>\n",
       "  </thead>\n",
       "  <tbody>\n",
       "    <tr>\n",
       "      <th>0</th>\n",
       "      <td>John</td>\n",
       "      <td>Dam 52</td>\n",
       "      <td>Amsterdam</td>\n",
       "      <td>The Netherlands</td>\n",
       "      <td>32</td>\n",
       "      <td>Fishing</td>\n",
       "      <td>Blue</td>\n",
       "    </tr>\n",
       "    <tr>\n",
       "      <th>1</th>\n",
       "      <td>Jenny</td>\n",
       "      <td>Leidseplein 2</td>\n",
       "      <td>Amsterdam</td>\n",
       "      <td>The Netherlands</td>\n",
       "      <td>12</td>\n",
       "      <td>Dancing</td>\n",
       "      <td>Mauve</td>\n",
       "    </tr>\n",
       "    <tr>\n",
       "      <th>2</th>\n",
       "      <td>Jill</td>\n",
       "      <td>52W Street 5</td>\n",
       "      <td>Amsterdam</td>\n",
       "      <td>United States of America</td>\n",
       "      <td>28</td>\n",
       "      <td>Carpentry</td>\n",
       "      <td>Cyan</td>\n",
       "    </tr>\n",
       "    <tr>\n",
       "      <th>3</th>\n",
       "      <td>Jake</td>\n",
       "      <td>12E Street 98</td>\n",
       "      <td>Amsterdam</td>\n",
       "      <td>United States of America</td>\n",
       "      <td>42</td>\n",
       "      <td>Ballet</td>\n",
       "      <td>Purple</td>\n",
       "    </tr>\n",
       "  </tbody>\n",
       "</table>\n",
       "</div>"
      ],
      "text/plain": [
       "    Name        Address      Place                   Country  Age      Hobby  \\\n",
       "0   John         Dam 52  Amsterdam           The Netherlands   32    Fishing   \n",
       "1  Jenny  Leidseplein 2  Amsterdam           The Netherlands   12    Dancing   \n",
       "2   Jill   52W Street 5  Amsterdam  United States of America   28  Carpentry   \n",
       "3   Jake  12E Street 98  Amsterdam  United States of America   42     Ballet   \n",
       "\n",
       "  Favourite Colour  \n",
       "0             Blue  \n",
       "1            Mauve  \n",
       "2             Cyan  \n",
       "3           Purple  "
      ]
     },
     "execution_count": 3,
     "metadata": {},
     "output_type": "execute_result"
    }
   ],
   "source": [
    "df"
   ]
  },
  {
   "cell_type": "code",
   "execution_count": 4,
   "id": "b02bd24a-7dc6-495f-825d-690ec6c2b763",
   "metadata": {},
   "outputs": [],
   "source": [
    "g = Graph()\n",
    "ppl = Namespace('http://example.org/people/')\n",
    "loc = Namespace('http://mylocations.org/addresses/')\n",
    "schema = Namespace('http://schema.org/')"
   ]
  },
  {
   "cell_type": "code",
   "execution_count": 5,
   "id": "03131a40-62b8-4cb5-bfc9-e3ae7a6004dc",
   "metadata": {},
   "outputs": [],
   "source": [
    "for index, row in df.iterrows():\n",
    "    g.add((URIRef(ppl+row['Name']), RDF.type, FOAF.Person))\n",
    "    g.add((URIRef(ppl+row['Name']), URIRef(schema+'name'), Literal(row['Name'], datatype=XSD.string) ))\n",
    "    g.add((URIRef(ppl+row['Name']), FOAF.age, Literal(row['Age'], datatype=XSD.integer) ))\n",
    "    g.add((URIRef(ppl+row['Name']), URIRef(schema+'address'), Literal(row['Address'], datatype=XSD.string) ))\n",
    "    g.add((URIRef(loc+urllib.parse.quote(row['Address'])), URIRef(schema+'name'), Literal(row['Address'], datatype=XSD.string) ))"
   ]
  },
  {
   "cell_type": "code",
   "execution_count": 6,
   "id": "3690ad51-efad-453a-bd65-16686180582f",
   "metadata": {},
   "outputs": [
    {
     "data": {
      "text/plain": [
       "<Graph identifier=Na5e6f88a9dda4288acae08413f8b1e52 (<class 'rdflib.graph.Graph'>)>"
      ]
     },
     "execution_count": 6,
     "metadata": {},
     "output_type": "execute_result"
    }
   ],
   "source": [
    "g.serialize('mycsv2rdf.ttl',format='turtle')"
   ]
  },
  {
   "cell_type": "code",
   "execution_count": 17,
   "id": "f55e1728-b79c-4f86-b928-2c162534699b",
   "metadata": {},
   "outputs": [],
   "source": [
    "url = \"https://raw.githubusercontent.com/NatLibFi/Finto-data/master/vocabularies/iptc-subjectcode/iptc_v2_1.csv\"\n",
    "df=pd.read_csv(url)"
   ]
  },
  {
   "cell_type": "code",
   "execution_count": 16,
   "id": "ece9fc0e-5324-41fc-8544-719bcd0ca0f4",
   "metadata": {},
   "outputs": [
    {
     "data": {
      "text/html": [
       "<div>\n",
       "<style scoped>\n",
       "    .dataframe tbody tr th:only-of-type {\n",
       "        vertical-align: middle;\n",
       "    }\n",
       "\n",
       "    .dataframe tbody tr th {\n",
       "        vertical-align: top;\n",
       "    }\n",
       "\n",
       "    .dataframe thead th {\n",
       "        text-align: right;\n",
       "    }\n",
       "</style>\n",
       "<table border=\"1\" class=\"dataframe\">\n",
       "  <thead>\n",
       "    <tr style=\"text-align: right;\">\n",
       "      <th></th>\n",
       "      <th>0</th>\n",
       "      <th>1</th>\n",
       "      <th>2</th>\n",
       "      <th>3</th>\n",
       "      <th>4</th>\n",
       "      <th>5</th>\n",
       "    </tr>\n",
       "  </thead>\n",
       "  <tbody>\n",
       "    <tr>\n",
       "      <th>0</th>\n",
       "      <td>IPTC-sanasto v2.1 3/2011. Lähde: IPTC NewsCode...</td>\n",
       "      <td>NaN</td>\n",
       "      <td>NaN</td>\n",
       "      <td>NaN</td>\n",
       "      <td>NaN</td>\n",
       "      <td>NaN</td>\n",
       "    </tr>\n",
       "    <tr>\n",
       "      <th>1</th>\n",
       "      <td>NaN</td>\n",
       "      <td>NaN</td>\n",
       "      <td>NaN</td>\n",
       "      <td>NaN</td>\n",
       "      <td>NaN</td>\n",
       "      <td>NaN</td>\n",
       "    </tr>\n",
       "    <tr>\n",
       "      <th>2</th>\n",
       "      <td>01000000</td>\n",
       "      <td>NaN</td>\n",
       "      <td>NaN</td>\n",
       "      <td>NaN</td>\n",
       "      <td>Taide Kulttuuri Viihde</td>\n",
       "      <td>Ihmisten luova toiminta ja henkisten kykyjen j...</td>\n",
       "    </tr>\n",
       "    <tr>\n",
       "      <th>3</th>\n",
       "      <td>NaN</td>\n",
       "      <td>1001000.0</td>\n",
       "      <td>NaN</td>\n",
       "      <td>NaN</td>\n",
       "      <td>Arkeologia</td>\n",
       "      <td>NaN</td>\n",
       "    </tr>\n",
       "    <tr>\n",
       "      <th>4</th>\n",
       "      <td>NaN</td>\n",
       "      <td>1002000.0</td>\n",
       "      <td>NaN</td>\n",
       "      <td>NaN</td>\n",
       "      <td>Arkkitehtuuri</td>\n",
       "      <td>NaN</td>\n",
       "    </tr>\n",
       "    <tr>\n",
       "      <th>...</th>\n",
       "      <td>...</td>\n",
       "      <td>...</td>\n",
       "      <td>...</td>\n",
       "      <td>...</td>\n",
       "      <td>...</td>\n",
       "      <td>...</td>\n",
       "    </tr>\n",
       "    <tr>\n",
       "      <th>1056</th>\n",
       "      <td>NaN</td>\n",
       "      <td>17002000.0</td>\n",
       "      <td>NaN</td>\n",
       "      <td>NaN</td>\n",
       "      <td>Ilmastonmuutokset</td>\n",
       "      <td>Kasvihuoneilmiö ympäristössä</td>\n",
       "    </tr>\n",
       "    <tr>\n",
       "      <th>1057</th>\n",
       "      <td>NaN</td>\n",
       "      <td>17003000.0</td>\n",
       "      <td>NaN</td>\n",
       "      <td>NaN</td>\n",
       "      <td>Säätiedotteet</td>\n",
       "      <td>Ajokeli, merisää, siitepöly</td>\n",
       "    </tr>\n",
       "    <tr>\n",
       "      <th>1058</th>\n",
       "      <td>NaN</td>\n",
       "      <td>NaN</td>\n",
       "      <td>17003001.0</td>\n",
       "      <td>NaN</td>\n",
       "      <td>Sääuutiset</td>\n",
       "      <td>NaN</td>\n",
       "    </tr>\n",
       "    <tr>\n",
       "      <th>1059</th>\n",
       "      <td>NaN</td>\n",
       "      <td>17004000.0</td>\n",
       "      <td>NaN</td>\n",
       "      <td>NaN</td>\n",
       "      <td>Säätilastot</td>\n",
       "      <td>NaN</td>\n",
       "    </tr>\n",
       "    <tr>\n",
       "      <th>1060</th>\n",
       "      <td>NaN</td>\n",
       "      <td>17005000.0</td>\n",
       "      <td>NaN</td>\n",
       "      <td>NaN</td>\n",
       "      <td>Säävaroitukset</td>\n",
       "      <td>Jää, kulo, levä, lumi, metsäpalo, myrsky, tuuli</td>\n",
       "    </tr>\n",
       "  </tbody>\n",
       "</table>\n",
       "<p>1061 rows × 6 columns</p>\n",
       "</div>"
      ],
      "text/plain": [
       "                                                      0           1  \\\n",
       "0     IPTC-sanasto v2.1 3/2011. Lähde: IPTC NewsCode...         NaN   \n",
       "1                                                   NaN         NaN   \n",
       "2                                              01000000         NaN   \n",
       "3                                                   NaN   1001000.0   \n",
       "4                                                   NaN   1002000.0   \n",
       "...                                                 ...         ...   \n",
       "1056                                                NaN  17002000.0   \n",
       "1057                                                NaN  17003000.0   \n",
       "1058                                                NaN         NaN   \n",
       "1059                                                NaN  17004000.0   \n",
       "1060                                                NaN  17005000.0   \n",
       "\n",
       "               2   3                       4  \\\n",
       "0            NaN NaN                     NaN   \n",
       "1            NaN NaN                     NaN   \n",
       "2            NaN NaN  Taide Kulttuuri Viihde   \n",
       "3            NaN NaN              Arkeologia   \n",
       "4            NaN NaN           Arkkitehtuuri   \n",
       "...          ...  ..                     ...   \n",
       "1056         NaN NaN       Ilmastonmuutokset   \n",
       "1057         NaN NaN           Säätiedotteet   \n",
       "1058  17003001.0 NaN              Sääuutiset   \n",
       "1059         NaN NaN             Säätilastot   \n",
       "1060         NaN NaN          Säävaroitukset   \n",
       "\n",
       "                                                      5  \n",
       "0                                                   NaN  \n",
       "1                                                   NaN  \n",
       "2     Ihmisten luova toiminta ja henkisten kykyjen j...  \n",
       "3                                                   NaN  \n",
       "4                                                   NaN  \n",
       "...                                                 ...  \n",
       "1056                       Kasvihuoneilmiö ympäristössä  \n",
       "1057                        Ajokeli, merisää, siitepöly  \n",
       "1058                                                NaN  \n",
       "1059                                                NaN  \n",
       "1060    Jää, kulo, levä, lumi, metsäpalo, myrsky, tuuli  \n",
       "\n",
       "[1061 rows x 6 columns]"
      ]
     },
     "execution_count": 16,
     "metadata": {},
     "output_type": "execute_result"
    }
   ],
   "source": [
    "df"
   ]
  },
  {
   "cell_type": "code",
   "execution_count": 18,
   "id": "c7173f90-51c5-4142-a663-f507f0dc91ba",
   "metadata": {},
   "outputs": [
    {
     "ename": "FileNotFoundError",
     "evalue": "[Errno 2] No such file or directory: '-f'",
     "output_type": "error",
     "traceback": [
      "\u001b[0;31m---------------------------------------------------------------------------\u001b[0m",
      "\u001b[0;31mFileNotFoundError\u001b[0m                         Traceback (most recent call last)",
      "\u001b[0;32m/tmp/ipykernel_130834/2771327069.py\u001b[0m in \u001b[0;36m<module>\u001b[0;34m\u001b[0m\n\u001b[1;32m      9\u001b[0m \u001b[0mg\u001b[0m\u001b[0;34m.\u001b[0m\u001b[0mnamespace_manager\u001b[0m\u001b[0;34m.\u001b[0m\u001b[0mbind\u001b[0m\u001b[0;34m(\u001b[0m\u001b[0;34m'skos'\u001b[0m\u001b[0;34m,\u001b[0m \u001b[0mSKOS\u001b[0m\u001b[0;34m)\u001b[0m\u001b[0;34m\u001b[0m\u001b[0;34m\u001b[0m\u001b[0m\n\u001b[1;32m     10\u001b[0m \u001b[0;34m\u001b[0m\u001b[0m\n\u001b[0;32m---> 11\u001b[0;31m \u001b[0mreader\u001b[0m \u001b[0;34m=\u001b[0m \u001b[0mcsv\u001b[0m\u001b[0;34m.\u001b[0m\u001b[0mreader\u001b[0m\u001b[0;34m(\u001b[0m\u001b[0mopen\u001b[0m\u001b[0;34m(\u001b[0m\u001b[0msys\u001b[0m\u001b[0;34m.\u001b[0m\u001b[0margv\u001b[0m\u001b[0;34m[\u001b[0m\u001b[0;36m1\u001b[0m\u001b[0;34m]\u001b[0m\u001b[0;34m)\u001b[0m\u001b[0;34m)\u001b[0m\u001b[0;34m\u001b[0m\u001b[0;34m\u001b[0m\u001b[0m\n\u001b[0m\u001b[1;32m     12\u001b[0m \u001b[0midx\u001b[0m \u001b[0;34m=\u001b[0m \u001b[0;36m0\u001b[0m\u001b[0;34m\u001b[0m\u001b[0;34m\u001b[0m\u001b[0m\n\u001b[1;32m     13\u001b[0m \u001b[0;32mfor\u001b[0m \u001b[0mrow\u001b[0m \u001b[0;32min\u001b[0m \u001b[0mreader\u001b[0m\u001b[0;34m:\u001b[0m\u001b[0;34m\u001b[0m\u001b[0;34m\u001b[0m\u001b[0m\n",
      "\u001b[0;31mFileNotFoundError\u001b[0m: [Errno 2] No such file or directory: '-f'"
     ]
    }
   ],
   "source": [
    "from rdflib import Graph, Namespace, URIRef, Literal, RDF\n",
    "import csv\n",
    "import sys\n",
    "\n",
    "SKOS = Namespace(\"http://www.w3.org/2004/02/skos/core#\")\n",
    "SC = Namespace(\"http://cv.iptc.org/newscodes/subjectcode/\")\n",
    "\n",
    "g = Graph()\n",
    "g.namespace_manager.bind('skos', SKOS)\n",
    "\n",
    "reader = csv.reader(open(sys.argv[1]))\n",
    "idx = 0\n",
    "for row in reader:\n",
    "  idx += 1\n",
    "  if idx < 3: continue\n",
    "  for code in row[:4]:\n",
    "    if code != '': break\n",
    "  label = row[4].strip().decode('UTF-8')\n",
    "  defn = row[5].strip().decode('UTF-8')\n",
    "  uri = SC[code.strip()]\n",
    "  g.add((uri, SKOS.prefLabel, Literal(label, 'fi')))\n",
    "  if defn != '':\n",
    "    g.add((uri, SKOS.definition, Literal(defn, 'fi')))\n",
    "  \n",
    "g.serialize(destination=sys.stdout, format='turtle')"
   ]
  },
  {
   "cell_type": "code",
   "execution_count": 1,
   "id": "0d161b3e-62f5-4e8c-ae45-f616aa56aeab",
   "metadata": {},
   "outputs": [],
   "source": [
    "import pandas as pd\n",
    "df = pd.read_csv(\"sim29_03.csv\")"
   ]
  },
  {
   "cell_type": "code",
   "execution_count": 16,
   "id": "249bbb58-8a13-45d6-ab15-ce1176c77062",
   "metadata": {},
   "outputs": [
    {
     "data": {
      "text/plain": [
       "(0, 5)"
      ]
     },
     "execution_count": 16,
     "metadata": {},
     "output_type": "execute_result"
    }
   ],
   "source": [
    "df[df.similarity == 'Architektura i budownictwo'].shape"
   ]
  },
  {
   "cell_type": "code",
   "execution_count": 18,
   "id": "515bdd12-d1e2-4106-896e-bc0dd86e4f1d",
   "metadata": {},
   "outputs": [
    {
     "data": {
      "text/plain": [
       "<Kategoria: Architektura i budownictwo>: <Termin    42007\n",
       "Name: cat, dtype: int64"
      ]
     },
     "execution_count": 18,
     "metadata": {},
     "output_type": "execute_result"
    }
   ],
   "source": [
    "df[\"cat\"].value_counts()"
   ]
  },
  {
   "cell_type": "code",
   "execution_count": 11,
   "id": "04fe669f-1bcc-48c6-9eda-e02b330161f6",
   "metadata": {},
   "outputs": [],
   "source": [
    "df[\"cat\"] = df['similarity'].str.extract(r\"(<Kategoria: Architektura i budownictwo>:)\")"
   ]
  },
  {
   "cell_type": "code",
   "execution_count": 46,
   "id": "0894bab1-18d9-4706-91d2-3223651e09d1",
   "metadata": {},
   "outputs": [
    {
     "data": {
      "text/plain": [
       "<Kategoria: Transport i logistyka>: <Termin    7831\n",
       "Name: cat, dtype: int64"
      ]
     },
     "execution_count": 46,
     "metadata": {},
     "output_type": "execute_result"
    }
   ],
   "source": [
    "df[\"cat\"] = df['similarity'].str.extract(r\"(<Kategoria: Transport i logistyka>: <Termin)\")\n",
    "df[\"cat\"].value_counts()"
   ]
  },
  {
   "cell_type": "code",
   "execution_count": 20,
   "id": "67d3c1c2-b0ec-44a1-b33a-d6de00117a99",
   "metadata": {},
   "outputs": [],
   "source": [
    "df.to_csv(\"df_25_04.csv\")"
   ]
  },
  {
   "cell_type": "code",
   "execution_count": 47,
   "id": "f8ca8263-d61a-486a-ae53-f12074da1ca0",
   "metadata": {},
   "outputs": [],
   "source": [
    "df2 = pd.read_csv(\"data_fbc_pol.csv\")"
   ]
  },
  {
   "cell_type": "code",
   "execution_count": 48,
   "id": "1e83b749-6af3-41c0-ba1c-491859bb040c",
   "metadata": {},
   "outputs": [
    {
     "data": {
      "text/html": [
       "<div>\n",
       "<style scoped>\n",
       "    .dataframe tbody tr th:only-of-type {\n",
       "        vertical-align: middle;\n",
       "    }\n",
       "\n",
       "    .dataframe tbody tr th {\n",
       "        vertical-align: top;\n",
       "    }\n",
       "\n",
       "    .dataframe thead th {\n",
       "        text-align: right;\n",
       "    }\n",
       "</style>\n",
       "<table border=\"1\" class=\"dataframe\">\n",
       "  <thead>\n",
       "    <tr style=\"text-align: right;\">\n",
       "      <th></th>\n",
       "      <th>Unnamed: 0</th>\n",
       "      <th>Records</th>\n",
       "      <th>DBN</th>\n",
       "      <th>1_1</th>\n",
       "      <th>ENTS</th>\n",
       "    </tr>\n",
       "  </thead>\n",
       "  <tbody>\n",
       "    <tr>\n",
       "      <th>0</th>\n",
       "      <td>0</td>\n",
       "      <td>Unia Europejska</td>\n",
       "      <td>NaN</td>\n",
       "      <td>[]</td>\n",
       "      <td>['Unia Europejska, orgName']</td>\n",
       "    </tr>\n",
       "    <tr>\n",
       "      <th>1</th>\n",
       "      <td>0</td>\n",
       "      <td>Polska. Główny Urząd Statystyczny</td>\n",
       "      <td>NaN</td>\n",
       "      <td>[]</td>\n",
       "      <td>['Polska, placeName', 'Główny Urząd Statystycz...</td>\n",
       "    </tr>\n",
       "    <tr>\n",
       "      <th>2</th>\n",
       "      <td>0</td>\n",
       "      <td>Polska Akademia Nauk.</td>\n",
       "      <td>NaN</td>\n",
       "      <td>[]</td>\n",
       "      <td>['Polska Akademia Nauk, orgName']</td>\n",
       "    </tr>\n",
       "    <tr>\n",
       "      <th>3</th>\n",
       "      <td>0</td>\n",
       "      <td>Rada Wzajemnej Pomocy Gospodarczej.</td>\n",
       "      <td>NaN</td>\n",
       "      <td>[]</td>\n",
       "      <td>['Rada Wzajemnej Pomocy Gospodarczej, orgName']</td>\n",
       "    </tr>\n",
       "    <tr>\n",
       "      <th>4</th>\n",
       "      <td>0</td>\n",
       "      <td>duchowość pozareligijna</td>\n",
       "      <td>NaN</td>\n",
       "      <td>[]</td>\n",
       "      <td>[]</td>\n",
       "    </tr>\n",
       "  </tbody>\n",
       "</table>\n",
       "</div>"
      ],
      "text/plain": [
       "   Unnamed: 0                              Records  DBN 1_1  \\\n",
       "0           0                      Unia Europejska  NaN  []   \n",
       "1           0    Polska. Główny Urząd Statystyczny  NaN  []   \n",
       "2           0                Polska Akademia Nauk.  NaN  []   \n",
       "3           0  Rada Wzajemnej Pomocy Gospodarczej.  NaN  []   \n",
       "4           0              duchowość pozareligijna  NaN  []   \n",
       "\n",
       "                                                ENTS  \n",
       "0                       ['Unia Europejska, orgName']  \n",
       "1  ['Polska, placeName', 'Główny Urząd Statystycz...  \n",
       "2                  ['Polska Akademia Nauk, orgName']  \n",
       "3    ['Rada Wzajemnej Pomocy Gospodarczej, orgName']  \n",
       "4                                                 []  "
      ]
     },
     "execution_count": 48,
     "metadata": {},
     "output_type": "execute_result"
    }
   ],
   "source": [
    "df2.head()"
   ]
  },
  {
   "cell_type": "code",
   "execution_count": 52,
   "id": "2b930331-c0e9-4957-900d-01c3d27692f3",
   "metadata": {},
   "outputs": [
    {
     "data": {
      "text/plain": [
       "placeName    337289\n",
       "Name: cat, dtype: int64"
      ]
     },
     "execution_count": 52,
     "metadata": {},
     "output_type": "execute_result"
    }
   ],
   "source": [
    "df2[\"cat\"] = df2['ENTS'].str.extract(r\"(placeName)\")\n",
    "df2[\"cat\"].value_counts()"
   ]
  }
 ],
 "metadata": {
  "kernelspec": {
   "display_name": "Python 3 (ipykernel)",
   "language": "python",
   "name": "python3"
  },
  "language_info": {
   "codemirror_mode": {
    "name": "ipython",
    "version": 3
   },
   "file_extension": ".py",
   "mimetype": "text/x-python",
   "name": "python",
   "nbconvert_exporter": "python",
   "pygments_lexer": "ipython3",
   "version": "3.9.7"
  }
 },
 "nbformat": 4,
 "nbformat_minor": 5
}
