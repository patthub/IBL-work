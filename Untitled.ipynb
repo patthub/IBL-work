{
 "cells": [
  {
   "cell_type": "code",
   "execution_count": 1,
   "id": "15ca3969-6dac-4a9f-a4a2-1cc38ad0087a",
   "metadata": {},
   "outputs": [
    {
     "name": "stdout",
     "output_type": "stream",
     "text": [
      "Done\n"
     ]
    }
   ],
   "source": [
    "import pandas as pd\n",
    "import numpy as np\n",
    "from tqdm import tqdm\n",
    "import spacy\n",
    "import os\n",
    "import regex as re\n",
    "import json\n",
    "from pymarc import MARCReader\n",
    "import requests\n",
    "from difflib import SequenceMatcher\n",
    "import Levenshtein\n",
    "from SPARQLWrapper import SPARQLWrapper, JSON\n",
    "\n",
    "\n",
    "\n",
    "nlp = spacy.load(\"pl_core_news_lg\")\n",
    "\n",
    "print(\"Done\")"
   ]
  },
  {
   "cell_type": "code",
   "execution_count": 120,
   "id": "b41b403b-7dc3-4f9a-9a7a-1103e8b70b73",
   "metadata": {},
   "outputs": [],
   "source": [
    "#read fbc files from .csv\n",
    "\n",
    "def prepare_fbc_subjects(path: str) -> list:\n",
    "    SUBJECTS_ALL = pd.read_csv(path)\n",
    "    subjects_fbc = SUBJECTS_ALL[\"0\"].values.tolist()\n",
    "    return [x for x in list(set(subjects_fbc)) if str(x) !=\"nan\"]\n",
    "\n",
    "\n",
    "def split_df(df, delimiters):\n",
    "    dane_dict = df[\"Record\"].to_dict()\n",
    "    lista = []\n",
    "    for delimiter in delimiters:\n",
    "        for v in dane_dict.values():\n",
    "            lista.append(pd.DataFrame(re.split(delimiter, v)))\n",
    "    new_df = pd.concat(lista).rename(columns={0: 'Records'})\n",
    "    return new_df\n",
    "\n",
    "\n",
    "\n",
    "def get_closest_category(row):\n",
    "    results = []\n",
    "    for k, v in VOCAB_BN.items():\n",
    "        for elem in v:\n",
    "            results.append({k: SequenceMatcher(None, row, elem).ratio()})\n",
    "    x = 0\n",
    "    category = \"\"\n",
    "    final_sub = \"\"\n",
    "    for dictionary in results:\n",
    "        for k,v in dictionary.items():\n",
    "            if v > x:\n",
    "                x = v\n",
    "                category = k\n",
    "                final_sub = v\n",
    "    print(category)\n",
    "    print(final_sub)\n",
    "    return category\n",
    "\n",
    "\n",
    "\n",
    "def if_dbn(row):\n",
    "    try:\n",
    "        if row and \"DBN\" in row:\n",
    "            return row.replace(\"DBN\", \"\")\n",
    "        else:\n",
    "            return row\n",
    "    except TypeError:\n",
    "             return \"brak DBN\"\n",
    "\n",
    "        \n",
    "def if_dbn_info(row):\n",
    "    try:\n",
    "        if row and \"DBN\" in row:\n",
    "            return \"DBN\"\n",
    "    except TypeError:\n",
    "             return \"brak DBN\"\n",
    "\n",
    "def identify_dbn_1_to_1(row: str):\n",
    "    result = [k for k,v in VOCAB_BN.items() if row in v]\n",
    "    return result\n",
    "\n",
    "def identify_dbn_part_to_whole(row: str):\n",
    "    \n",
    "    result = [k for k,v in VOCAB_BN.items() if row.lower().strip(\".\") in v]\n",
    "    return result\n",
    "\n",
    "# def identify_dbn_part_whole(row: str):\n",
    "#     try:\n",
    "#         for term in literaturoznawstwo:\n",
    "#             if term.lower().strip(\".\") in row:\n",
    "#                 return \"Literaturoznawstwo\"\n",
    "#     except TypeError:\n",
    "#         return None\n",
    "#     except AttributeError:\n",
    "#         return None\n",
    "    \n",
    "\n",
    "def get_vocab(path, lower = False):\n",
    "    fields_of_interest = [\"150a\", \"450a\"]\n",
    "    df = pd.read_csv(path)\n",
    "    if lower:\n",
    "        df = df.applymap(lambda s: s.lower() if type(s) == str else s)\n",
    "    df = df.rename(columns = {\"Unnamed: 0\":\"150a\"})\n",
    "    lista_test = []\n",
    "    for field in fields_of_interest:\n",
    "        for elem in df[field].dropna():\n",
    "            lista_test.append(elem.replace(\"[\", \"\").replace(\"]\", \"\").replace(\"'\",\"\").split(\",\"))\n",
    "    lista_main = [item for sublist in lista_test for item in sublist]\n",
    "    lista_main = [item.strip() for item in lista_main]\n",
    "    return lista_main\n",
    "\n",
    "def get_all_vocab(subject_names: list, lower = False):\n",
    "    vocab_dict = {}\n",
    "    for subject in subject_names:\n",
    "        vocab = []\n",
    "        subject_name = subject.lower()\n",
    "        subject_name = get_vocab(f\"Kategorie tematyczne/df_{subject_name}.csv\", lower)\n",
    "        vocab.append(subject_name)\n",
    "        vocab_dict[subject] = vocab\n",
    "        vocab_dict[subject] = [x for v in vocab for x in v]\n",
    "    return vocab_dict\n",
    "\n",
    "def get_unwanted_vocab(subject_names: list, lower = False):\n",
    "    vocab_dict = {}\n",
    "    for subject in subject_names:\n",
    "        vocab = []\n",
    "        subject_name = subject.lower()\n",
    "        subject_name = get_vocab(f\"Kategorie tematyczne/Zbędne kategorie/df_{subject_name}.csv\", lower)\n",
    "        vocab.append(subject_name)\n",
    "        vocab_dict[subject] = vocab\n",
    "        vocab_dict[subject] = [x for v in vocab for x in v]\n",
    "    return vocab_dict\n",
    "\n",
    "\n",
    "def get_ents(row):\n",
    "    entities = []\n",
    "    doc = nlp(row)\n",
    "    for ent in doc.ents:\n",
    "        entities.append(f\"{ent.text}, {ent.label_}\")\n",
    "    return entities\n",
    "\n",
    "def get_lemmas(row):\n",
    "    lemmas = []\n",
    "    doc = nlp(row)\n",
    "    for token in doc:\n",
    "        lemmas.append(token.lemma_)\n",
    "    lemmas_string = \" \".join(lemmas)\n",
    "    return lemmas_string\n",
    "\n",
    "def get_closest_category_score(row):\n",
    "    results = []\n",
    "    for k, v in VOCAB_BN_LEMMAS.items():\n",
    "        for elem in v:\n",
    "            results.append({k: Levenshtein.ratio(row, elem)})\n",
    "    x = 0\n",
    "    categories = []\n",
    "    final_categories = []\n",
    "    category = \"\"\n",
    "    final_sub = \"\"\n",
    "    for dictionary in results:\n",
    "        for k,v in dictionary.items():\n",
    "            if v >= x:\n",
    "                categories.append(dictionary)\n",
    "                x = v\n",
    "                category = k\n",
    "                final_sub = v\n",
    "    for elem in categories:\n",
    "        for k,v in elem.items():\n",
    "            if v >= 0.80:\n",
    "                final_categories.append(elem)\n",
    "                \n",
    "\n",
    "    return final_categories"
   ]
  },
  {
   "cell_type": "code",
   "execution_count": 3,
   "id": "b92fe7e0-0e3b-481d-9a92-6bb97dadc359",
   "metadata": {},
   "outputs": [],
   "source": [
    "with open('VOCAB_BN_all_lemmas.json') as json_file:\n",
    "    VOCAB_BN_LEMMAS = json.load(json_file)\n",
    "VOCAB_BN_LEMMAS[\"Polityka, politologia, administracja publiczna\"].append(\"unia europejski\")"
   ]
  },
  {
   "cell_type": "code",
   "execution_count": 4,
   "id": "cc7427c6-1459-4359-a0f3-533eb8b6ac6b",
   "metadata": {},
   "outputs": [],
   "source": [
    "DF = pd.read_csv(\"df_with_closest_category.csv\")\n",
    "terms = DF[[\"Records\",\"LEMMAS\"]].copy()\n",
    "terms[\"LEMMAS\"] = terms[\"LEMMAS\"].str.strip(\".\").str.strip(\" \")"
   ]
  },
  {
   "cell_type": "code",
   "execution_count": 5,
   "id": "7bfccc09-b726-47ab-9a34-7c527e4f3e53",
   "metadata": {},
   "outputs": [],
   "source": [
    "from itertools import product"
   ]
  },
  {
   "cell_type": "code",
   "execution_count": 37,
   "id": "f87d7000-ced2-443b-9015-c69ae7d83db4",
   "metadata": {},
   "outputs": [],
   "source": [
    "def get_closest_category_and_term(x: list, y:dict):\n",
    "    \n",
    "    def similarity(elem1, elem2):\n",
    "        return Levenshtein.ratio(elem1, elem2)\n",
    "\n",
    "    result = []\n",
    "    for k, lista in y.items():\n",
    "        for a, b in product(x, lista):\n",
    "            if similarity(a, b) > 0.6:\n",
    "                result.append(f\"{k}: {a} - {b}: {similarity(a, b)}\")\n",
    "                return result"
   ]
  },
  {
   "cell_type": "code",
   "execution_count": 127,
   "id": "a25e44f2-fede-440d-95ff-589fe279402b",
   "metadata": {},
   "outputs": [],
   "source": [
    "x1 = [\"Ala\", \"Ela\"]\n",
    "x2 = {\"imie1\":[\"Ela\", \"Ola\", \"Grażyna\"]}"
   ]
  },
  {
   "cell_type": "code",
   "execution_count": 43,
   "id": "067f7f62-d7f2-4f6c-9fe0-b3db2d388870",
   "metadata": {},
   "outputs": [
    {
     "data": {
      "text/plain": [
       "['imie1: Ala - Ela: 0.6666666666666667']"
      ]
     },
     "execution_count": 43,
     "metadata": {},
     "output_type": "execute_result"
    }
   ],
   "source": [
    "get_closest_category_and_term(x1, x2)"
   ]
  },
  {
   "cell_type": "code",
   "execution_count": 29,
   "id": "106423a9-768b-417d-888d-751acd07475d",
   "metadata": {},
   "outputs": [
    {
     "name": "stdout",
     "output_type": "stream",
     "text": [
      "imie1 ['Ela', 'Ola', 'Grażyna']\n",
      "imie2 ['Ala']\n"
     ]
    }
   ],
   "source": [
    "for k, lista in x2.items():\n",
    "    print(k, lista)"
   ]
  },
  {
   "cell_type": "code",
   "execution_count": 160,
   "id": "9164108c-4e4f-49b8-b2f8-d564e11b2b3d",
   "metadata": {},
   "outputs": [],
   "source": [
    "\n",
    "def similarity(elem1, elem2):\n",
    "    try:\n",
    "        return Levenshtein.ratio(elem1, elem2)\n",
    "    except:\n",
    "        pass\n",
    "\n",
    "# Driver Function\n",
    "def get_closest(x):\n",
    "    try:\n",
    "        results = []\n",
    "        if __name__ == \"__main__\":\n",
    "            for k, lista in VOCAB_BN_LEMMAS.items():\n",
    "                for a, b in product([x], lista):\n",
    "                    if similarity(a, b) > 0.8:\n",
    "                        if similarity(a, b) == 1.00:\n",
    "                            result = f\"Exact match: <Kategoria: {k}>: <Termin wyszukiwany: {a}> - <Termin podobny: {b}>: <Poziom podobieństwa: {similarity(a, b)}>\"\n",
    "                            results.append(result)\n",
    "                        else:\n",
    "                            result = f\"Similar match: <Kategoria: {k}>: <Termin wyszukiwany: {a}> - <Termin podobny: {b}>: <Poziom podobieństwa: {similarity(a, b)}>\"\n",
    "                            results.append(result)\n",
    "        return results\n",
    "    except:\n",
    "        pass\n",
    "           "
   ]
  },
  {
   "cell_type": "code",
   "execution_count": 150,
   "id": "47743678-4f5f-4009-a003-b16d73c547b9",
   "metadata": {},
   "outputs": [
    {
     "name": "stdout",
     "output_type": "stream",
     "text": [
      "['Exact match: <Kategoria: Kultura i sztuka>: <Termin wyszukiwany: barok> - <Termin podobny: barok>: <Poziom podobieństwa: 1.0>', 'Similar match: <Kategoria: Kultura i sztuka>: <Termin wyszukiwany: barok> - <Termin podobny: barock>: <Poziom podobieństwa: 0.9090909090909091>', 'Exact match: <Kategoria: Literaturoznawstwo>: <Termin wyszukiwany: barok> - <Termin podobny: barok>: <Poziom podobieństwa: 1.0>', 'Similar match: <Kategoria: Literaturoznawstwo>: <Termin wyszukiwany: barok> - <Termin podobny: barock>: <Poziom podobieństwa: 0.9090909090909091>', 'Similar match: <Kategoria: Biologia>: <Termin wyszukiwany: barok> - <Termin podobny: bark>: <Poziom podobieństwa: 0.8888888888888888>', 'Similar match: <Kategoria: Medycyna i zdrowie>: <Termin wyszukiwany: barok> - <Termin podobny: brok>: <Poziom podobieństwa: 0.8888888888888888>']\n"
     ]
    }
   ],
   "source": [
    "test = get_closest(\"barok\")"
   ]
  },
  {
   "cell_type": "code",
   "execution_count": 151,
   "id": "56a8b0cb-5c0c-4228-9fc9-412cb742b061",
   "metadata": {},
   "outputs": [
    {
     "data": {
      "text/plain": [
       "['Exact match: <Kategoria: Kultura i sztuka>: <Termin wyszukiwany: barok> - <Termin podobny: barok>: <Poziom podobieństwa: 1.0>',\n",
       " 'Similar match: <Kategoria: Kultura i sztuka>: <Termin wyszukiwany: barok> - <Termin podobny: barock>: <Poziom podobieństwa: 0.9090909090909091>',\n",
       " 'Exact match: <Kategoria: Literaturoznawstwo>: <Termin wyszukiwany: barok> - <Termin podobny: barok>: <Poziom podobieństwa: 1.0>',\n",
       " 'Similar match: <Kategoria: Literaturoznawstwo>: <Termin wyszukiwany: barok> - <Termin podobny: barock>: <Poziom podobieństwa: 0.9090909090909091>',\n",
       " 'Similar match: <Kategoria: Biologia>: <Termin wyszukiwany: barok> - <Termin podobny: bark>: <Poziom podobieństwa: 0.8888888888888888>',\n",
       " 'Similar match: <Kategoria: Medycyna i zdrowie>: <Termin wyszukiwany: barok> - <Termin podobny: brok>: <Poziom podobieństwa: 0.8888888888888888>']"
      ]
     },
     "execution_count": 151,
     "metadata": {},
     "output_type": "execute_result"
    }
   ],
   "source": [
    "test"
   ]
  },
  {
   "cell_type": "code",
   "execution_count": 124,
   "id": "1691b3d0-39f8-4e82-a7af-25997625f4c6",
   "metadata": {},
   "outputs": [
    {
     "data": {
      "text/plain": [
       "[{'Kultura i sztuka': 0.8},\n",
       " {'Literaturoznawstwo': 0.8125},\n",
       " {'Polityka, politologia, administracja publiczna': 0.8333333333333334},\n",
       " {'Polityka, politologia, administracja publiczna': 1.0},\n",
       " {'Transport i logistyka': 1.0}]"
      ]
     },
     "execution_count": 124,
     "metadata": {},
     "output_type": "execute_result"
    }
   ],
   "source": [
    "get_closest_category_score(\"unia europejski\")"
   ]
  },
  {
   "cell_type": "code",
   "execution_count": 109,
   "id": "0e171d3a-e7d1-451f-9890-6a5471bb878f",
   "metadata": {},
   "outputs": [
    {
     "name": "stdout",
     "output_type": "stream",
     "text": [
      "['Archeologia: kultura nazca - kultura nazca: 1.0', 'Archeologia: kultura nazca - kultura nagada: 0.8148148148148149', 'Archeologia: kultura nazca - kultura acarí: 0.8461538461538461', 'Archeologia: kultura nazca - kultura noa: 0.8333333333333334', 'Socjologia i społeczeństwo: kultura nazca - kultura praca: 0.8461538461538461', 'Gospodarka, ekonomia, finanse: kultura nazca - kultura praca: 0.8461538461538461']\n"
     ]
    },
    {
     "data": {
      "text/plain": [
       "['Archeologia: kultura nazca - kultura nazca: 1.0',\n",
       " 'Archeologia: kultura nazca - kultura nagada: 0.8148148148148149',\n",
       " 'Archeologia: kultura nazca - kultura acarí: 0.8461538461538461',\n",
       " 'Archeologia: kultura nazca - kultura noa: 0.8333333333333334',\n",
       " 'Socjologia i społeczeństwo: kultura nazca - kultura praca: 0.8461538461538461',\n",
       " 'Gospodarka, ekonomia, finanse: kultura nazca - kultura praca: 0.8461538461538461']"
      ]
     },
     "execution_count": 109,
     "metadata": {},
     "output_type": "execute_result"
    }
   ],
   "source": [
    "test = get_closest(\"kultura nazca\", VOCAB_BN_LEMMAS)\n",
    "test"
   ]
  },
  {
   "cell_type": "code",
   "execution_count": 110,
   "id": "76478f32-5459-4ba0-bb4c-1134774ab26b",
   "metadata": {},
   "outputs": [
    {
     "data": {
      "text/plain": [
       "0.8461538461538461"
      ]
     },
     "execution_count": 110,
     "metadata": {},
     "output_type": "execute_result"
    }
   ],
   "source": [
    "Levenshtein.ratio(\"kultura nazca\",\"kultura praca\")"
   ]
  },
  {
   "cell_type": "code",
   "execution_count": 152,
   "id": "118e18ab-4fb7-4cab-9085-b4ca2dc3ad29",
   "metadata": {},
   "outputs": [],
   "source": [
    "x2 = {\"imie1\":[\"barok\", \"unia europejski\", \"kultura nasca\"]}\n",
    "test_df = pd.DataFrame(x2)"
   ]
  },
  {
   "cell_type": "code",
   "execution_count": 156,
   "id": "6cddbadb-13ba-46fe-a13d-da104290b287",
   "metadata": {},
   "outputs": [
    {
     "data": {
      "text/html": [
       "<div>\n",
       "<style scoped>\n",
       "    .dataframe tbody tr th:only-of-type {\n",
       "        vertical-align: middle;\n",
       "    }\n",
       "\n",
       "    .dataframe tbody tr th {\n",
       "        vertical-align: top;\n",
       "    }\n",
       "\n",
       "    .dataframe thead th {\n",
       "        text-align: right;\n",
       "    }\n",
       "</style>\n",
       "<table border=\"1\" class=\"dataframe\">\n",
       "  <thead>\n",
       "    <tr style=\"text-align: right;\">\n",
       "      <th></th>\n",
       "      <th>Records</th>\n",
       "      <th>LEMMAS</th>\n",
       "    </tr>\n",
       "  </thead>\n",
       "  <tbody>\n",
       "    <tr>\n",
       "      <th>0</th>\n",
       "      <td>Unia Europejska</td>\n",
       "      <td>unia europejski</td>\n",
       "    </tr>\n",
       "    <tr>\n",
       "      <th>1</th>\n",
       "      <td>Polska. Główny Urząd Statystyczny</td>\n",
       "      <td>polska . główny urząd statystyczny</td>\n",
       "    </tr>\n",
       "    <tr>\n",
       "      <th>2</th>\n",
       "      <td>Polska Akademia Nauk.</td>\n",
       "      <td>polski akademia nauka</td>\n",
       "    </tr>\n",
       "    <tr>\n",
       "      <th>3</th>\n",
       "      <td>Rada Wzajemnej Pomocy Gospodarczej.</td>\n",
       "      <td>Rado wzajemny pomoc gospodarczy</td>\n",
       "    </tr>\n",
       "    <tr>\n",
       "      <th>4</th>\n",
       "      <td>duchowość pozareligijna</td>\n",
       "      <td>duchowość pozareligijna</td>\n",
       "    </tr>\n",
       "  </tbody>\n",
       "</table>\n",
       "</div>"
      ],
      "text/plain": [
       "                               Records                              LEMMAS\n",
       "0                      Unia Europejska                     unia europejski\n",
       "1    Polska. Główny Urząd Statystyczny  polska . główny urząd statystyczny\n",
       "2                Polska Akademia Nauk.               polski akademia nauka\n",
       "3  Rada Wzajemnej Pomocy Gospodarczej.     Rado wzajemny pomoc gospodarczy\n",
       "4              duchowość pozareligijna             duchowość pozareligijna"
      ]
     },
     "execution_count": 156,
     "metadata": {},
     "output_type": "execute_result"
    }
   ],
   "source": [
    "terms.head()"
   ]
  },
  {
   "cell_type": "code",
   "execution_count": 161,
   "id": "65271ae9-5eea-43a1-92f6-e2fdabf65566",
   "metadata": {},
   "outputs": [],
   "source": [
    "terms[\"similarity\"] = terms[\"LEMMAS\"].apply(get_closest)"
   ]
  },
  {
   "cell_type": "code",
   "execution_count": 164,
   "id": "7afc7169-6108-46d0-8eb3-4d643e66533a",
   "metadata": {},
   "outputs": [],
   "source": [
    "terms.to_csv(\"sim29_03.csv\")"
   ]
  }
 ],
 "metadata": {
  "kernelspec": {
   "display_name": "Python 3 (ipykernel)",
   "language": "python",
   "name": "python3"
  },
  "language_info": {
   "codemirror_mode": {
    "name": "ipython",
    "version": 3
   },
   "file_extension": ".py",
   "mimetype": "text/x-python",
   "name": "python",
   "nbconvert_exporter": "python",
   "pygments_lexer": "ipython3",
   "version": "3.9.7"
  }
 },
 "nbformat": 4,
 "nbformat_minor": 5
}
