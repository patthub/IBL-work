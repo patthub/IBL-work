{
 "cells": [
  {
   "cell_type": "code",
   "execution_count": 1,
   "id": "9971d6c7-eefe-414c-bd45-acf79bc439a5",
   "metadata": {},
   "outputs": [
    {
     "name": "stdout",
     "output_type": "stream",
     "text": [
      "Done\n"
     ]
    }
   ],
   "source": [
    "import pandas as pd\n",
    "import numpy as np\n",
    "from tqdm import tqdm\n",
    "import spacy\n",
    "import os\n",
    "import regex as re\n",
    "import json\n",
    "from pymarc import MARCReader\n",
    "import requests\n",
    "from difflib import SequenceMatcher\n",
    "import Levenshtein\n",
    "from SPARQLWrapper import SPARQLWrapper, JSON\n",
    "\n",
    "\n",
    "\n",
    "nlp = spacy.load(\"pl_core_news_lg\")\n",
    "\n",
    "print(\"Done\")"
   ]
  },
  {
   "cell_type": "code",
   "execution_count": null,
   "id": "855868c5-ffd5-4c67-971f-1f182fe6c98d",
   "metadata": {},
   "outputs": [],
   "source": []
  },
  {
   "cell_type": "code",
   "execution_count": null,
   "id": "2f82b19f-2021-47ec-a8c6-51059c34dea2",
   "metadata": {},
   "outputs": [],
   "source": []
  },
  {
   "cell_type": "code",
   "execution_count": null,
   "id": "22522598-ff9d-4ef8-9563-7eb7cf162db4",
   "metadata": {},
   "outputs": [],
   "source": []
  },
  {
   "cell_type": "code",
   "execution_count": 2,
   "id": "44b7b559-6f1d-4286-81e3-a7579f2c0c3a",
   "metadata": {},
   "outputs": [],
   "source": [
    "def query_wikidata(term):\n",
    "    try:\n",
    "        sparql = SPARQLWrapper(\"https://query.wikidata.org/sparql\")\n",
    "        query = \"\"\"\n",
    "            SELECT distinct ?item ?itemLabel ?label_en ?label_fr ?label_ger \n",
    "            ?label_ukr ?itemDescription ?lcsh ?unesco ?eurovoc ?YSO ?openalex \n",
    "\n",
    "            WHERE{  \n",
    "              ?item ?label \"%s\"@pl .  \n",
    "              OPTIONAL {?item wdt:P244 ?lcsh . }\n",
    "              OPTIONAL {?item wdt:P757 ?unesco . }\n",
    "              OPTIONAL {?item wdt:P5437 ?eurovoc . }\n",
    "              OPTIONAL {?item wdt:P10283 ?openalex . }\n",
    "              OPTIONAL {?item wdt:P2347 ?YSO . }\n",
    "              ?item rdfs:label ?label_en filter (lang(?label_en) = \"en\").\n",
    "              ?item rdfs:label ?label_fr filter (lang(?label_fr) = \"fr\").\n",
    "              ?item rdfs:label ?label_ger filter (lang(?label_ger) = \"de\").\n",
    "              ?item rdfs:label ?label_ukr filter (lang(?label_ukr) = \"uk\").\n",
    "              SERVICE wikibase:label { bd:serviceParam wikibase:language \"pl\". }    \n",
    "            }\n",
    "        \"\"\" % (term)\n",
    "        sparql.setQuery(query)\n",
    "\n",
    "        sparql.setReturnFormat(JSON)\n",
    "        results = sparql.query().convert()\n",
    "        if results[\"results\"][\"bindings\"]:\n",
    "            results_df = pd.json_normalize(results['results']['bindings'])\n",
    "            return results_df\n",
    "    except:\n",
    "        pass"
   ]
  },
  {
   "cell_type": "code",
   "execution_count": 3,
   "id": "27c2e128-42b9-4ab5-8a27-2d85c485b7ac",
   "metadata": {},
   "outputs": [],
   "source": [
    "def modify_df(df):\n",
    "    dict_of_single_col = {}\n",
    "    for column in columns_of_interest:\n",
    "        if column in df.columns:\n",
    "            dict_of_single_col[column] = str(df[column].to_list())\n",
    "            final_df = pd.DataFrame(x_df, index = [0])\n",
    "            \n",
    "    return final_df"
   ]
  },
  {
   "cell_type": "code",
   "execution_count": 4,
   "id": "cdb4e90d-9d31-42bf-8984-8b2584cf8041",
   "metadata": {},
   "outputs": [],
   "source": [
    "litznawstwo = pd.read_csv(\"Kategorie tematyczne/df_literaturoznawstwo.csv\").rename(columns = {\"Unnamed: 0\": \"150\"})"
   ]
  },
  {
   "cell_type": "code",
   "execution_count": 5,
   "id": "05c9f9df-4e68-40c3-9054-9260bab21ed4",
   "metadata": {},
   "outputs": [
    {
     "name": "stderr",
     "output_type": "stream",
     "text": [
      "100%|█████████████████████████████████████████| 824/824 [03:06<00:00,  4.41it/s]\n"
     ]
    }
   ],
   "source": [
    "tqdm.pandas()\n",
    "litznawstwo[\"wikidata\"] = litznawstwo[\"150\"].progress_apply(query_wikidata)"
   ]
  },
  {
   "cell_type": "code",
   "execution_count": 11,
   "id": "263562ad-4943-4509-95a2-4fe10934934f",
   "metadata": {},
   "outputs": [
    {
     "data": {
      "text/html": [
       "<div>\n",
       "<style scoped>\n",
       "    .dataframe tbody tr th:only-of-type {\n",
       "        vertical-align: middle;\n",
       "    }\n",
       "\n",
       "    .dataframe tbody tr th {\n",
       "        vertical-align: top;\n",
       "    }\n",
       "\n",
       "    .dataframe thead th {\n",
       "        text-align: right;\n",
       "    }\n",
       "</style>\n",
       "<table border=\"1\" class=\"dataframe\">\n",
       "  <thead>\n",
       "    <tr style=\"text-align: right;\">\n",
       "      <th></th>\n",
       "      <th>item.type</th>\n",
       "      <th>item.value</th>\n",
       "      <th>label_en.xml:lang</th>\n",
       "      <th>label_en.type</th>\n",
       "      <th>label_en.value</th>\n",
       "      <th>label_fr.xml:lang</th>\n",
       "      <th>label_fr.type</th>\n",
       "      <th>label_fr.value</th>\n",
       "      <th>label_ger.xml:lang</th>\n",
       "      <th>label_ger.type</th>\n",
       "      <th>label_ger.value</th>\n",
       "      <th>label_ukr.xml:lang</th>\n",
       "      <th>label_ukr.type</th>\n",
       "      <th>label_ukr.value</th>\n",
       "      <th>itemLabel.xml:lang</th>\n",
       "      <th>itemLabel.type</th>\n",
       "      <th>itemLabel.value</th>\n",
       "      <th>lcsh.type</th>\n",
       "      <th>lcsh.value</th>\n",
       "    </tr>\n",
       "  </thead>\n",
       "  <tbody>\n",
       "    <tr>\n",
       "      <th>0</th>\n",
       "      <td>uri</td>\n",
       "      <td>http://www.wikidata.org/entity/Q160476</td>\n",
       "      <td>en</td>\n",
       "      <td>literal</td>\n",
       "      <td>German Expressionism</td>\n",
       "      <td>fr</td>\n",
       "      <td>literal</td>\n",
       "      <td>cinéma expressionniste</td>\n",
       "      <td>de</td>\n",
       "      <td>literal</td>\n",
       "      <td>Expressionismus</td>\n",
       "      <td>uk</td>\n",
       "      <td>literal</td>\n",
       "      <td>Експресіонізм у кіно</td>\n",
       "      <td>pl</td>\n",
       "      <td>literal</td>\n",
       "      <td>Ekspresjonizm</td>\n",
       "      <td>NaN</td>\n",
       "      <td>NaN</td>\n",
       "    </tr>\n",
       "    <tr>\n",
       "      <th>1</th>\n",
       "      <td>uri</td>\n",
       "      <td>http://www.wikidata.org/entity/Q1362030</td>\n",
       "      <td>en</td>\n",
       "      <td>literal</td>\n",
       "      <td>expressionism</td>\n",
       "      <td>fr</td>\n",
       "      <td>literal</td>\n",
       "      <td>Expressionnisme</td>\n",
       "      <td>de</td>\n",
       "      <td>literal</td>\n",
       "      <td>Expressionismus</td>\n",
       "      <td>uk</td>\n",
       "      <td>literal</td>\n",
       "      <td>Експресіонізм (література)</td>\n",
       "      <td>pl</td>\n",
       "      <td>literal</td>\n",
       "      <td>Ekspresjonizm</td>\n",
       "      <td>literal</td>\n",
       "      <td>sh94004146</td>\n",
       "    </tr>\n",
       "  </tbody>\n",
       "</table>\n",
       "</div>"
      ],
      "text/plain": [
       "  item.type                               item.value label_en.xml:lang  \\\n",
       "0       uri   http://www.wikidata.org/entity/Q160476                en   \n",
       "1       uri  http://www.wikidata.org/entity/Q1362030                en   \n",
       "\n",
       "  label_en.type        label_en.value label_fr.xml:lang label_fr.type  \\\n",
       "0       literal  German Expressionism                fr       literal   \n",
       "1       literal         expressionism                fr       literal   \n",
       "\n",
       "           label_fr.value label_ger.xml:lang label_ger.type  label_ger.value  \\\n",
       "0  cinéma expressionniste                 de        literal  Expressionismus   \n",
       "1         Expressionnisme                 de        literal  Expressionismus   \n",
       "\n",
       "  label_ukr.xml:lang label_ukr.type             label_ukr.value  \\\n",
       "0                 uk        literal        Експресіонізм у кіно   \n",
       "1                 uk        literal  Експресіонізм (література)   \n",
       "\n",
       "  itemLabel.xml:lang itemLabel.type itemLabel.value lcsh.type  lcsh.value  \n",
       "0                 pl        literal   Ekspresjonizm       NaN         NaN  \n",
       "1                 pl        literal   Ekspresjonizm   literal  sh94004146  "
      ]
     },
     "execution_count": 11,
     "metadata": {},
     "output_type": "execute_result"
    }
   ],
   "source": [
    "litznawstwo[\"wikidata\"][2]"
   ]
  },
  {
   "cell_type": "code",
   "execution_count": null,
   "id": "4bed9a0a-3031-4cec-96be-fe02a95ae9f0",
   "metadata": {},
   "outputs": [],
   "source": [
    "lit_df = df.copy()\n",
    "#lit_df = pd.read_csv(\"lit_with_wiki.csv\")\n",
    "lit_terms = list(lit_df[\"150\"])\n",
    "\n",
    "lit_df1 = lit_df.reset_index()\n",
    "final_df1 = final_df.reset_index()"
   ]
  },
  {
   "cell_type": "code",
   "execution_count": null,
   "id": "039945f4-e884-417f-ae00-177a7e3fc40d",
   "metadata": {},
   "outputs": [],
   "source": [
    "new_df = pd.concat([lit_df1, final_df1], axis = 1)"
   ]
  }
 ],
 "metadata": {
  "kernelspec": {
   "display_name": "Python 3 (ipykernel)",
   "language": "python",
   "name": "python3"
  },
  "language_info": {
   "codemirror_mode": {
    "name": "ipython",
    "version": 3
   },
   "file_extension": ".py",
   "mimetype": "text/x-python",
   "name": "python",
   "nbconvert_exporter": "python",
   "pygments_lexer": "ipython3",
   "version": "3.9.7"
  }
 },
 "nbformat": 4,
 "nbformat_minor": 5
}
